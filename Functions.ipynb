{
  "nbformat": 4,
  "nbformat_minor": 0,
  "metadata": {
    "colab": {
      "provenance": []
    },
    "kernelspec": {
      "name": "python3",
      "display_name": "Python 3"
    },
    "language_info": {
      "name": "python"
    }
  },
  "cells": [
    {
      "cell_type": "code",
      "source": [],
      "metadata": {
        "id": "mTyUv3OV0ute"
      },
      "execution_count": null,
      "outputs": []
    },
    {
      "cell_type": "markdown",
      "source": [
        "THEORY QUESTION:\n",
        "\n",
        "Q1. What is the difference between a function and a method in Python?\n",
        "\n",
        "answer> a function is a block of code that can be called from anywhere, while a method is a function that is associated with an object or class.\n",
        "1. Function:\n",
        "- A standalone block of code that performs a specific task.\n",
        "- Not associated with any class or object.\n",
        "- Can be called independently.\n",
        "- Does not have access to any specific object's data.\n",
        "\n",
        "Example:\n",
        "\n",
        "\n",
        "\n",
        "# Function\n",
        "def greet(name):\n",
        "    print(f\"Hello, {name}!\")\n",
        "\n",
        "# Method\n",
        "class Person:\n",
        "    def __init__(self, name):\n",
        "        self.name = name\n",
        "\n",
        "    def greet(self):\n",
        "        print(f\"Hello, {self.name}!\")\n",
        "\n",
        "greet(\"John\")  # Function call\n",
        "person = Person(\"Jane\")\n",
        "person.greet()  # Method call\n",
        "\n",
        "Q2. Explain the concept of function arguments and parameters in Python.\n",
        "\n",
        "Answer>In Python, functions can take inputs, known as arguments, which are used to perform specific tasks. Here's a breakdown of function arguments and parameters:\n",
        "\n",
        "\n",
        "1. Function Parameters\n",
        "- Parameters are the names listed in the function definition.\n",
        "- They are the variables that receive the input values when the function is called.\n",
        "- Parameters are defined inside the parentheses of the function definition.\n",
        "\n",
        "2. Function Arguments\n",
        "- Arguments are the actual values passed to a function when it's called.\n",
        "- They can be literals, variables, or expressions.\n",
        "- Arguments are assigned to the corresponding parameters in the function definition.\n",
        "\n",
        "Q3. What are the different ways to define and call a function in Python?\n",
        "Answer> Python provides several ways to define and call functions. Here are some of the most common methods:\n",
        "\n",
        "\n",
        "1. Defining Functions\n",
        "\n",
        "\n",
        ". Standard Function Definition: This is the most common way to define a function in Python.\n",
        "\n",
        "def greet(name):\n",
        "    print(f\"Hello, {name}!\")\n",
        "\n",
        "\n",
        ". Lambda Functions: These are small anonymous functions that can be defined inline.\n",
        "\n",
        "greet = lambda name: print(f\"Hello, {name}!\")\n",
        "\n",
        "\n",
        ". Nested Functions: These are functions defined inside another function.\n",
        "\n",
        "def outer():\n",
        "    def inner(name):\n",
        "        print(f\"Hello, {name}!\")\n",
        "    inner(\"John\")\n",
        "\n",
        "2.Calling Functions\n",
        "\n",
        "\n",
        ". Positional Arguments: Arguments are passed in the same order as the parameters in the function definition.\n",
        "\n",
        "def greet(name, message):\n",
        "    print(f\"{message}, {name}!\")\n",
        "greet(\"John\", \"Hello\")\n",
        "\n",
        "\n",
        ". Keyword Arguments: Arguments are passed using the parameter name followed by an equals sign and the value.\n",
        "\n",
        "def greet(name, message):\n",
        "    print(f\"{message}, {name}!\")\n",
        "greet(name=\"John\", message=\"Hello\")\n",
        "\n",
        "\n",
        ". Default Arguments: Parameters that have a default value assigned to them in the function definition.\n",
        "\n",
        "def greet(name, message=\"Hello\"):\n",
        "    print(f\"{message}, {name}!\")\n",
        "greet(\"John\")\n",
        "\n",
        "\n",
        ". Variable-Length Arguments: Parameters that can accept a variable number of arguments.\n",
        "\n",
        "def greet(name, *args, **kwargs):\n",
        "    print(f\"Hello, {name}!\")\n",
        "    for arg in args:\n",
        "        print(arg)\n",
        "    for key, value in kwargs.items():\n",
        "        print(f\"{key}: {value}\")\n",
        "greet(\"John\", \"How are you?\", age=30, city=\"New York\")\n",
        "\n",
        "Q4.  What is the purpose of the `return` statement in a Python function?\n",
        "Answer>The return statement in a Python function serves two purposes:\n",
        "\n",
        "\n",
        "1. Exiting the function: When a return statement is encountered, the function immediately stops executing and returns control to the caller.\n",
        "\n",
        "\n",
        "1. Returning a value: The return statement can also be used to return a value from the function to the caller. This value can be of any data type, including numbers, strings, lists, dictionaries, and more.\n",
        "\n",
        "\n",
        "Here's an example:\n",
        "\n",
        "\n",
        "\n",
        "def greet(name):\n",
        "    print(f\"Hello, {name}!\")\n",
        "    return f\"Hello, {name}!\"\n",
        "\n",
        "result = greet(\"John\")\n",
        "print(result)  # Output: Hello, John!\n",
        "\n",
        "Q5. What are iterators in Python and how do they differ from iterables?\n",
        "Answer>Iterables:\n",
        "\n",
        "\n",
        "- Are objects that can be iterated over, such as lists, tuples, dictionaries, sets, and strings.\n",
        "- Can be looped through using a for loop or other iteration constructs.\n",
        "- Can be converted into iterators using the iter() function.\n",
        "\n",
        "\n",
        "Iterators:\n",
        "\n",
        "\n",
        "- Are objects that keep track of their position during iteration.\n",
        "- Allow iteration over an iterable, one element at a time.\n",
        "- Can be created from iterables using the iter() function.\n",
        "- Can be exhausted, meaning they can't be reused after iteration is complete.\n",
        "\n",
        "Q6. Explain the concept of generators in Python and how they are defined.\n",
        "Answer>\n",
        "Generators in Python:\n",
        "Generators are a type of iterable, similar to lists or tuples. However, unlike lists, generators do not store all the values in memory at once. Instead, they generate values on-the-fly as they are needed.\n",
        "\n",
        "\n",
        "Defining Generators:\n",
        "Generators are defined using a function, but instead of using the return statement, generators use the yield statement.\n",
        "\n",
        "Q7. What are the advantages of using generators over regular functions?\n",
        "Answer>Generators have several advantages over regular functions, including memory efficiency, lazy evaluation, and flexibility.\n",
        "1. Memory Efficiency: Generators use significantly less memory than regular functions, especially when dealing with large datasets. They only store the current state, not the entire dataset.\n",
        "\n",
        "2. Lazy Evaluation: Generators only compute values when needed, which can improve performance. They avoid unnecessary computations and only generate values on-the-fly.\n",
        "\n",
        "3. Flexibility: Generators can be used to create complex sequences and pipelines. They can be combined with other generators, functions, and iterables to create powerful data processing workflows.\n",
        "\n",
        "Q8. What is a lambda function in Python and when is it typically used?\n",
        "Answer>Lambda Function in Python:\n",
        "A lambda function is a small, anonymous function that can take any number of arguments, but can only have one expression. It's defined using the lambda keyword.\n",
        "Lambda functions are typically used in the following scenarios:\n",
        "\n",
        "\n",
        "1. Data Processing: Lambda functions are often used with functions like map(), filter(), and reduce() to process data.\n",
        "\n",
        "\n",
        "2. Event Handling: Lambda functions can be used as event handlers, such as responding to button clicks or key presses.\n",
        "\n",
        "\n",
        "3. One-time Use: Lambda functions are ideal when you need a small, one-time-use function.\n",
        "\n",
        "\n",
        "4. Higher-order Functions: Lambda functions can be passed as arguments to higher-order functions.\n",
        "\n",
        "\n",
        "5. Quick Prototyping: Lambda functions can be used to quickly test an idea or prototype a small function.\n",
        "\n",
        "\n",
        "6. Sorting and Filtering: Lambda functions can be used as custom sorting and filtering functions.\n",
        "\n",
        "\n",
        "7. Functional Programming: Lambda functions are a key concept in functional programming, which emphasizes the use of pure functions and immutable data structures.\n",
        "\n",
        "Q9. Explain the purpose and usage of the `map()` function in Python.\n",
        "\n",
        "Answer>Purpose of map():\n",
        "\n",
        "The map() function in Python is a built-in function that applies a given function to each item of an iterable (such as a list, tuple, or string) and returns a new iterable with the results.\n",
        "\n",
        "\n",
        "Usage of map():\n",
        "\n",
        "\n",
        "The general syntax of map() is:\n",
        "\n",
        "\n",
        "\n",
        "map(function, iterable)\n",
        "\n",
        "\n",
        "\n",
        "Where:\n",
        "\n",
        "\n",
        "- function is the function you want to apply to each item of the iterable.\n",
        "- iterable is the iterable you want to process.\n",
        "\n",
        "\n",
        "Here's an example:\n",
        "\n",
        "\n",
        "\n",
        "def square(x):\n",
        "    return x ** 2\n",
        "\n",
        "numbers = [1, 2, 3, 4, 5]\n",
        "squared_numbers = list(map(square, numbers))\n",
        "print(squared_numbers)  # Output: [1, 4, 9, 16, 25]\n",
        "\n",
        "\n",
        "\n",
        "In this example:\n",
        "\n",
        "\n",
        "- The square() function takes an integer x and returns its square.\n",
        "- The numbers list contains integers from 1 to 5.\n",
        "- The map() function applies the square() function to each item of the numbers list and returns a new iterable with the results.\n",
        "- The list() function is used to convert the iterable returned by map() to a list.\n",
        "\n",
        "\n",
        "\n",
        "\n",
        "\n",
        "\n"
      ],
      "metadata": {
        "id": "b8N1pHLU_mOP"
      }
    },
    {
      "cell_type": "markdown",
      "source": [
        "Practical Question"
      ],
      "metadata": {
        "id": "VLOgWWJG0pV9"
      }
    },
    {
      "cell_type": "code",
      "source": [
        "#1. Write a Python function that takes a list of numbers as input and returns the sum of all even numbers in the list.\n",
        "\n",
        "def sum_even_numbers(numbers):\n",
        "\n",
        "  return sum([i for i in numbers if i%2==0])\n",
        "list = [1,2,3,4,5,6]\n",
        "sum_even_numbers(list)"
      ],
      "metadata": {
        "colab": {
          "base_uri": "https://localhost:8080/"
        },
        "id": "22d-E-qj17ZH",
        "outputId": "7e515d60-8bd5-477b-ebae-f386c6691f48"
      },
      "execution_count": 1,
      "outputs": [
        {
          "output_type": "execute_result",
          "data": {
            "text/plain": [
              "12"
            ]
          },
          "metadata": {},
          "execution_count": 1
        }
      ]
    },
    {
      "cell_type": "code",
      "source": [
        "#2.  Create a Python function that accepts a string and returns the reverse of that string.\n",
        "\n",
        "def rever_str(str):\n",
        "  return str[::-1]\n",
        "str = \"Mahesh babu\"\n",
        "rever_str(str)"
      ],
      "metadata": {
        "colab": {
          "base_uri": "https://localhost:8080/",
          "height": 35
        },
        "id": "NnJ_8UA6yIp1",
        "outputId": "811b0c4f-5ef2-4343-8d1c-ed489e7df488"
      },
      "execution_count": 2,
      "outputs": [
        {
          "output_type": "execute_result",
          "data": {
            "text/plain": [
              "'ubab hsehaM'"
            ],
            "application/vnd.google.colaboratory.intrinsic+json": {
              "type": "string"
            }
          },
          "metadata": {},
          "execution_count": 2
        }
      ]
    },
    {
      "cell_type": "code",
      "source": [
        "#3. Implement a Python function that takes a list of integers and returns a new list containing the squares of\n",
        "#each number.\n",
        "\n",
        "def square_list(numbers):\n",
        "  return [i**2 for i in numbers]\n",
        "list = [1,2,3,4,5,6]\n",
        "square_list(list)"
      ],
      "metadata": {
        "colab": {
          "base_uri": "https://localhost:8080/"
        },
        "id": "ma-s8j4gySOa",
        "outputId": "17655245-fe49-4f54-c501-17d024ab8aee"
      },
      "execution_count": 20,
      "outputs": [
        {
          "output_type": "execute_result",
          "data": {
            "text/plain": [
              "[1, 4, 9, 16, 25, 36]"
            ]
          },
          "metadata": {},
          "execution_count": 20
        }
      ]
    },
    {
      "cell_type": "code",
      "source": [
        "#4. Write a Python function that checks if a given number is prime or not from 1 to 200.\n",
        "\n",
        "def is_prime(n):\n",
        "  if n<2:\n",
        "    return False\n",
        "  for i in range(2,int(n**0.5) + 1):\n",
        "    if n%i==0:\n",
        "      return False\n",
        "  return True\n",
        "for i in range(1,201):\n",
        "  if is_prime(i):\n",
        "    print(f\"Yeah! {i} is a prime number\")\n",
        "  else:\n",
        "    print(f\"No! {i} is not prime number\")"
      ],
      "metadata": {
        "colab": {
          "base_uri": "https://localhost:8080/"
        },
        "id": "4rkLkO8KyaLF",
        "outputId": "a187811f-3a0d-48e0-bc53-b3b3ad34c45a"
      },
      "execution_count": 8,
      "outputs": [
        {
          "output_type": "stream",
          "name": "stdout",
          "text": [
            "No! 1 is not prime number\n",
            "Yeah! 2 is a prime number\n",
            "Yeah! 3 is a prime number\n",
            "No! 4 is not prime number\n",
            "Yeah! 5 is a prime number\n",
            "No! 6 is not prime number\n",
            "Yeah! 7 is a prime number\n",
            "No! 8 is not prime number\n",
            "No! 9 is not prime number\n",
            "No! 10 is not prime number\n",
            "Yeah! 11 is a prime number\n",
            "No! 12 is not prime number\n",
            "Yeah! 13 is a prime number\n",
            "No! 14 is not prime number\n",
            "No! 15 is not prime number\n",
            "No! 16 is not prime number\n",
            "Yeah! 17 is a prime number\n",
            "No! 18 is not prime number\n",
            "Yeah! 19 is a prime number\n",
            "No! 20 is not prime number\n",
            "No! 21 is not prime number\n",
            "No! 22 is not prime number\n",
            "Yeah! 23 is a prime number\n",
            "No! 24 is not prime number\n",
            "No! 25 is not prime number\n",
            "No! 26 is not prime number\n",
            "No! 27 is not prime number\n",
            "No! 28 is not prime number\n",
            "Yeah! 29 is a prime number\n",
            "No! 30 is not prime number\n",
            "Yeah! 31 is a prime number\n",
            "No! 32 is not prime number\n",
            "No! 33 is not prime number\n",
            "No! 34 is not prime number\n",
            "No! 35 is not prime number\n",
            "No! 36 is not prime number\n",
            "Yeah! 37 is a prime number\n",
            "No! 38 is not prime number\n",
            "No! 39 is not prime number\n",
            "No! 40 is not prime number\n",
            "Yeah! 41 is a prime number\n",
            "No! 42 is not prime number\n",
            "Yeah! 43 is a prime number\n",
            "No! 44 is not prime number\n",
            "No! 45 is not prime number\n",
            "No! 46 is not prime number\n",
            "Yeah! 47 is a prime number\n",
            "No! 48 is not prime number\n",
            "No! 49 is not prime number\n",
            "No! 50 is not prime number\n",
            "No! 51 is not prime number\n",
            "No! 52 is not prime number\n",
            "Yeah! 53 is a prime number\n",
            "No! 54 is not prime number\n",
            "No! 55 is not prime number\n",
            "No! 56 is not prime number\n",
            "No! 57 is not prime number\n",
            "No! 58 is not prime number\n",
            "Yeah! 59 is a prime number\n",
            "No! 60 is not prime number\n",
            "Yeah! 61 is a prime number\n",
            "No! 62 is not prime number\n",
            "No! 63 is not prime number\n",
            "No! 64 is not prime number\n",
            "No! 65 is not prime number\n",
            "No! 66 is not prime number\n",
            "Yeah! 67 is a prime number\n",
            "No! 68 is not prime number\n",
            "No! 69 is not prime number\n",
            "No! 70 is not prime number\n",
            "Yeah! 71 is a prime number\n",
            "No! 72 is not prime number\n",
            "Yeah! 73 is a prime number\n",
            "No! 74 is not prime number\n",
            "No! 75 is not prime number\n",
            "No! 76 is not prime number\n",
            "No! 77 is not prime number\n",
            "No! 78 is not prime number\n",
            "Yeah! 79 is a prime number\n",
            "No! 80 is not prime number\n",
            "No! 81 is not prime number\n",
            "No! 82 is not prime number\n",
            "Yeah! 83 is a prime number\n",
            "No! 84 is not prime number\n",
            "No! 85 is not prime number\n",
            "No! 86 is not prime number\n",
            "No! 87 is not prime number\n",
            "No! 88 is not prime number\n",
            "Yeah! 89 is a prime number\n",
            "No! 90 is not prime number\n",
            "No! 91 is not prime number\n",
            "No! 92 is not prime number\n",
            "No! 93 is not prime number\n",
            "No! 94 is not prime number\n",
            "No! 95 is not prime number\n",
            "No! 96 is not prime number\n",
            "Yeah! 97 is a prime number\n",
            "No! 98 is not prime number\n",
            "No! 99 is not prime number\n",
            "No! 100 is not prime number\n",
            "Yeah! 101 is a prime number\n",
            "No! 102 is not prime number\n",
            "Yeah! 103 is a prime number\n",
            "No! 104 is not prime number\n",
            "No! 105 is not prime number\n",
            "No! 106 is not prime number\n",
            "Yeah! 107 is a prime number\n",
            "No! 108 is not prime number\n",
            "Yeah! 109 is a prime number\n",
            "No! 110 is not prime number\n",
            "No! 111 is not prime number\n",
            "No! 112 is not prime number\n",
            "Yeah! 113 is a prime number\n",
            "No! 114 is not prime number\n",
            "No! 115 is not prime number\n",
            "No! 116 is not prime number\n",
            "No! 117 is not prime number\n",
            "No! 118 is not prime number\n",
            "No! 119 is not prime number\n",
            "No! 120 is not prime number\n",
            "No! 121 is not prime number\n",
            "No! 122 is not prime number\n",
            "No! 123 is not prime number\n",
            "No! 124 is not prime number\n",
            "No! 125 is not prime number\n",
            "No! 126 is not prime number\n",
            "Yeah! 127 is a prime number\n",
            "No! 128 is not prime number\n",
            "No! 129 is not prime number\n",
            "No! 130 is not prime number\n",
            "Yeah! 131 is a prime number\n",
            "No! 132 is not prime number\n",
            "No! 133 is not prime number\n",
            "No! 134 is not prime number\n",
            "No! 135 is not prime number\n",
            "No! 136 is not prime number\n",
            "Yeah! 137 is a prime number\n",
            "No! 138 is not prime number\n",
            "Yeah! 139 is a prime number\n",
            "No! 140 is not prime number\n",
            "No! 141 is not prime number\n",
            "No! 142 is not prime number\n",
            "No! 143 is not prime number\n",
            "No! 144 is not prime number\n",
            "No! 145 is not prime number\n",
            "No! 146 is not prime number\n",
            "No! 147 is not prime number\n",
            "No! 148 is not prime number\n",
            "Yeah! 149 is a prime number\n",
            "No! 150 is not prime number\n",
            "Yeah! 151 is a prime number\n",
            "No! 152 is not prime number\n",
            "No! 153 is not prime number\n",
            "No! 154 is not prime number\n",
            "No! 155 is not prime number\n",
            "No! 156 is not prime number\n",
            "Yeah! 157 is a prime number\n",
            "No! 158 is not prime number\n",
            "No! 159 is not prime number\n",
            "No! 160 is not prime number\n",
            "No! 161 is not prime number\n",
            "No! 162 is not prime number\n",
            "Yeah! 163 is a prime number\n",
            "No! 164 is not prime number\n",
            "No! 165 is not prime number\n",
            "No! 166 is not prime number\n",
            "Yeah! 167 is a prime number\n",
            "No! 168 is not prime number\n",
            "No! 169 is not prime number\n",
            "No! 170 is not prime number\n",
            "No! 171 is not prime number\n",
            "No! 172 is not prime number\n",
            "Yeah! 173 is a prime number\n",
            "No! 174 is not prime number\n",
            "No! 175 is not prime number\n",
            "No! 176 is not prime number\n",
            "No! 177 is not prime number\n",
            "No! 178 is not prime number\n",
            "Yeah! 179 is a prime number\n",
            "No! 180 is not prime number\n",
            "Yeah! 181 is a prime number\n",
            "No! 182 is not prime number\n",
            "No! 183 is not prime number\n",
            "No! 184 is not prime number\n",
            "No! 185 is not prime number\n",
            "No! 186 is not prime number\n",
            "No! 187 is not prime number\n",
            "No! 188 is not prime number\n",
            "No! 189 is not prime number\n",
            "No! 190 is not prime number\n",
            "Yeah! 191 is a prime number\n",
            "No! 192 is not prime number\n",
            "Yeah! 193 is a prime number\n",
            "No! 194 is not prime number\n",
            "No! 195 is not prime number\n",
            "No! 196 is not prime number\n",
            "Yeah! 197 is a prime number\n",
            "No! 198 is not prime number\n",
            "Yeah! 199 is a prime number\n",
            "No! 200 is not prime number\n"
          ]
        }
      ]
    },
    {
      "cell_type": "code",
      "source": [
        "#6. Write a generator function in Python that yields the powers of 2 up to a given exponent.\n",
        "\n",
        "def power(a):\n",
        "  for i in range(a+1):\n",
        "    yield 2**i\n",
        "inp = int(input())\n",
        "for i in power(inp):\n",
        "  print(i)\n",
        "  # the exponent start from 0 and goes to 5\n",
        "  # power(inp) gets in return a generator obj that gives values after iteration"
      ],
      "metadata": {
        "colab": {
          "base_uri": "https://localhost:8080/"
        },
        "id": "KS8JFS-Dy4HM",
        "outputId": "03bd49a3-9a7e-4780-908f-47508079d7ff"
      },
      "execution_count": 9,
      "outputs": [
        {
          "output_type": "stream",
          "name": "stdout",
          "text": [
            "5\n",
            "1\n",
            "2\n",
            "4\n",
            "8\n",
            "16\n",
            "32\n"
          ]
        }
      ]
    },
    {
      "cell_type": "code",
      "source": [
        "#7. Implement a generator function that reads a file line by line and yields each line as a string.\n",
        "\n",
        "def read_file(file_path):\n",
        "  with open(file_path,'r') as file:\n",
        "    for line in file:\n",
        "      yield line.strip() # use to remove extra space, leading or trailing whitespace\n",
        "\n",
        "file_path = 'example.txt'\n",
        "with open(file_path,'w') as file:\n",
        "  file.write(\"Hello World!\\n\")\n",
        "  file.write(\"This is a for test purpose\")\n",
        "\n",
        "for line in read_file(file_path):\n",
        "        print(line)"
      ],
      "metadata": {
        "colab": {
          "base_uri": "https://localhost:8080/"
        },
        "id": "vagxT1RQzdv1",
        "outputId": "ee19247f-8ebc-4bf8-be04-6bbbd7679f07"
      },
      "execution_count": 12,
      "outputs": [
        {
          "output_type": "stream",
          "name": "stdout",
          "text": [
            "Hello World!\n",
            "This is a for test purpose\n"
          ]
        }
      ]
    },
    {
      "cell_type": "code",
      "source": [
        "#8.   Use a lambda function in Python to sort a list of tuples based on the second element of each tuple.\n",
        "\n",
        "lis_tup = [(1, 3), (4, 1), (5, 2), (2, 4)]\n",
        "sort_lis = sorted(lis_tup, key = lambda x:x[1]) # key makes clear through which we have to sort\n",
        "print(sort_lis)"
      ],
      "metadata": {
        "colab": {
          "base_uri": "https://localhost:8080/"
        },
        "id": "1FlE1RZP0IO_",
        "outputId": "b6688337-673b-4831-89c1-08765a0182d3"
      },
      "execution_count": 13,
      "outputs": [
        {
          "output_type": "stream",
          "name": "stdout",
          "text": [
            "[(4, 1), (5, 2), (1, 3), (2, 4)]\n"
          ]
        }
      ]
    },
    {
      "cell_type": "code",
      "source": [
        "#10. Create a Python program that uses `filter()` to remove all the vowels from a given string.\n",
        "vowels = 'aeiou'\n",
        "str = \"anamikaaeumbreiospu\"\n",
        "print(''.join(filter(lambda x: x not in vowels,str)))"
      ],
      "metadata": {
        "colab": {
          "base_uri": "https://localhost:8080/"
        },
        "id": "h5gv-Flw0ifI",
        "outputId": "0814b654-63f7-4891-9cf8-6767fed82824"
      },
      "execution_count": 16,
      "outputs": [
        {
          "output_type": "stream",
          "name": "stdout",
          "text": [
            "nmkmbrsp\n"
          ]
        }
      ]
    },
    {
      "cell_type": "code",
      "source": [
        "#11.  Write a Python program, which returns a list with 2-tuples. Each tuple consists of the order number and the\n",
        "\n",
        "#product of the price per item and the quantity. The product should be increased by 10,- € if the value of the\n",
        "#order is smaller than 100,00 €.\n",
        "\n",
        "orders = [ [34587, 4, 40.95],\n",
        "           [98762, 5, 56.80],\n",
        "           [77226, 3, 32.95],\n",
        "           [88112, 3, 24.99] ]\n",
        "\n",
        "cal_total = lambda x : (x[0],x[1]*x[2] + 10 if x[1] * x[2] < 100 else x[1] * x[2])\n",
        "print(list(map(cal_total,orders)))"
      ],
      "metadata": {
        "colab": {
          "base_uri": "https://localhost:8080/",
          "height": 193
        },
        "id": "zweDbp1H2YVQ",
        "outputId": "1f8de3e5-5392-4191-e9a7-7f9aa69702fb"
      },
      "execution_count": 19,
      "outputs": [
        {
          "output_type": "error",
          "ename": "TypeError",
          "evalue": "'list' object is not callable",
          "traceback": [
            "\u001b[0;31m---------------------------------------------------------------------------\u001b[0m",
            "\u001b[0;31mTypeError\u001b[0m                                 Traceback (most recent call last)",
            "\u001b[0;32m<ipython-input-19-b60ca7e21c8d>\u001b[0m in \u001b[0;36m<cell line: 0>\u001b[0;34m()\u001b[0m\n\u001b[1;32m     10\u001b[0m \u001b[0;34m\u001b[0m\u001b[0m\n\u001b[1;32m     11\u001b[0m \u001b[0mcal_total\u001b[0m \u001b[0;34m=\u001b[0m \u001b[0;32mlambda\u001b[0m \u001b[0mx\u001b[0m \u001b[0;34m:\u001b[0m \u001b[0;34m(\u001b[0m\u001b[0mx\u001b[0m\u001b[0;34m[\u001b[0m\u001b[0;36m0\u001b[0m\u001b[0;34m]\u001b[0m\u001b[0;34m,\u001b[0m\u001b[0mx\u001b[0m\u001b[0;34m[\u001b[0m\u001b[0;36m1\u001b[0m\u001b[0;34m]\u001b[0m\u001b[0;34m*\u001b[0m\u001b[0mx\u001b[0m\u001b[0;34m[\u001b[0m\u001b[0;36m2\u001b[0m\u001b[0;34m]\u001b[0m \u001b[0;34m+\u001b[0m \u001b[0;36m10\u001b[0m \u001b[0;32mif\u001b[0m \u001b[0mx\u001b[0m\u001b[0;34m[\u001b[0m\u001b[0;36m1\u001b[0m\u001b[0;34m]\u001b[0m \u001b[0;34m*\u001b[0m \u001b[0mx\u001b[0m\u001b[0;34m[\u001b[0m\u001b[0;36m2\u001b[0m\u001b[0;34m]\u001b[0m \u001b[0;34m<\u001b[0m \u001b[0;36m100\u001b[0m \u001b[0;32melse\u001b[0m \u001b[0mx\u001b[0m\u001b[0;34m[\u001b[0m\u001b[0;36m1\u001b[0m\u001b[0;34m]\u001b[0m \u001b[0;34m*\u001b[0m \u001b[0mx\u001b[0m\u001b[0;34m[\u001b[0m\u001b[0;36m2\u001b[0m\u001b[0;34m]\u001b[0m\u001b[0;34m)\u001b[0m\u001b[0;34m\u001b[0m\u001b[0;34m\u001b[0m\u001b[0m\n\u001b[0;32m---> 12\u001b[0;31m \u001b[0mprint\u001b[0m\u001b[0;34m(\u001b[0m\u001b[0mlist\u001b[0m\u001b[0;34m(\u001b[0m\u001b[0mmap\u001b[0m\u001b[0;34m(\u001b[0m\u001b[0mcal_total\u001b[0m\u001b[0;34m,\u001b[0m\u001b[0morders\u001b[0m\u001b[0;34m)\u001b[0m\u001b[0;34m)\u001b[0m\u001b[0;34m)\u001b[0m\u001b[0;34m\u001b[0m\u001b[0;34m\u001b[0m\u001b[0m\n\u001b[0m",
            "\u001b[0;31mTypeError\u001b[0m: 'list' object is not callable"
          ]
        }
      ]
    },
    {
      "cell_type": "code",
      "source": [],
      "metadata": {
        "id": "RqfIVQvV2fb_"
      },
      "execution_count": null,
      "outputs": []
    }
  ]
}